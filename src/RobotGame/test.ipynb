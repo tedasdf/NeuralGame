{
 "cells": [
  {
   "cell_type": "code",
   "execution_count": null,
   "metadata": {},
   "outputs": [],
   "source": [
    "def check_sequence():\n",
    "    if not self.active:\n",
    "        return \"Game not active.\"\n",
    "\n",
    "    if player_sequence == sequence[len(player_sequence)]:\n",
    "            if len(player_sequence) == 4:\n",
    "                return \"Win\"\n",
    "        return \"Correct\"\n",
    "    else:\n",
    "        self.active = False\n",
    "        return \"Incorrect\""
   ]
  }
 ],
 "metadata": {
  "language_info": {
   "name": "python"
  }
 },
 "nbformat": 4,
 "nbformat_minor": 2
}
