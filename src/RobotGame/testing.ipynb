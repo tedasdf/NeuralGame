{
 "cells": [
  {
   "cell_type": "code",
   "execution_count": 2,
   "id": "9e9eceae",
   "metadata": {},
   "outputs": [
    {
     "data": {
      "text/plain": [
       "array([[ 0,  1,  1],\n",
       "       [ 0,  0,  0],\n",
       "       [ 1,  0,  0],\n",
       "       [ 0,  0,  0],\n",
       "       [ 0,  6,  6],\n",
       "       [ 0,  0, -7]])"
      ]
     },
     "execution_count": 2,
     "metadata": {},
     "output_type": "execute_result"
    }
   ],
   "source": [
    "w1 = np.array([0, 0, 1])\n",
    "q1 = np.array([0, 0, 0])\n",
    "v1 = -np.cross(w1, q1)\n",
    "\n",
    "w2 = np.array([1, 0, 0])\n",
    "q2 = np.array([0, 0, L1])\n",
    "v2 = -np.cross(w2, q2)\n",
    "\n",
    "w3 = np.array([1, 0, 0])\n",
    "q3 = np.array([0, L2, L1])\n",
    "v3 = -np.cross(w3, q3)\n",
    "\n",
    "# Store screw axes in 6x3 matrix\n",
    "Slist = np.column_stack((\n",
    "    np.hstack((w1, v1)),\n",
    "    np.hstack((w2, v2)),\n",
    "    np.hstack((w3, v3))\n",
    "))\n",
    "Slist"
   ]
  },
  {
   "cell_type": "code",
   "execution_count": 103,
   "id": "8e5233e6",
   "metadata": {},
   "outputs": [
    {
     "data": {
      "text/plain": [
       "(6, 3)"
      ]
     },
     "execution_count": 103,
     "metadata": {},
     "output_type": "execute_result"
    }
   ],
   "source": [
    "import numpy as np\n",
    "\n",
    "\n",
    "L1 = 6\n",
    "L2 = 7  # Length of the second link\n",
    "L3 = 7\n",
    "# Define joint axes and locations\n",
    "w1 = np.array([0, 0, 1])\n",
    "q1 = np.array([0, 0, 0])\n",
    "v1 = -np.cross(w1, q1)\n",
    "\n",
    "w2 = np.array([0, -1, 0])\n",
    "q2 = np.array([0, 0, L1])\n",
    "v2 = -np.cross(w2, q2)\n",
    "\n",
    "w3 = np.array([0, 1, 0])\n",
    "q3 = np.array([L2, 0, L1])\n",
    "v3 = -np.cross(w3, q3)\n",
    "\n",
    "# Screw axes (6x3 matrix)\n",
    "S1 = np.hstack((w1, v1))  # shape (6,)\n",
    "S2 = np.hstack((w2, v2))\n",
    "S3 = np.hstack((w3, v3))\n",
    "Slist = np.column_stack((S1, S2, S3))  # shape (6,3)\n",
    "\n",
    "\n",
    "\n",
    "Slist.shape"
   ]
  },
  {
   "cell_type": "code",
   "execution_count": 82,
   "id": "ae0e7b7c",
   "metadata": {},
   "outputs": [
    {
     "data": {
      "text/plain": [
       "array([[-0.05233595, -0.99862953,  0.        , -0.3471783 ],\n",
       "       [ 0.99862953, -0.05233595,  0.        ,  6.62455715],\n",
       "       [ 0.        ,  0.        ,  1.        , 12.99040674],\n",
       "       [ 0.        ,  0.        ,  0.        ,  1.        ]])"
      ]
     },
     "execution_count": 82,
     "metadata": {},
     "output_type": "execute_result"
    }
   ],
   "source": [
    "M = np.array([\n",
    "            [1, 0, 0, L2+L3],\n",
    "            [0, 1, 0, 0],\n",
    "            [0, 0, 1, L1],\n",
    "            [0, 0, 0, 1]\n",
    "        ])\n",
    "import modern_robotics as mr\n",
    "import math\n",
    "mr.FKinSpace(M, Slist, [1.6231562, 1.6231562 ,1.6231562])\n"
   ]
  },
  {
   "cell_type": "code",
   "execution_count": 83,
   "id": "4c2a8da7",
   "metadata": {},
   "outputs": [
    {
     "data": {
      "text/plain": [
       "array([[-0.11893542, -0.76044129,  0.63842259,  3.63550616],\n",
       "       [-0.13927083,  0.64940668,  0.74757916,  4.25709974],\n",
       "       [-0.98308596,  0.        , -0.18314474, -2.17106492],\n",
       "       [ 0.        ,  0.        ,  0.        ,  1.        ]])"
      ]
     },
     "execution_count": 83,
     "metadata": {},
     "output_type": "execute_result"
    }
   ],
   "source": [
    "mr.FKinSpace(M, Slist, [ 0.86399238, -0.18526706 , 1.56971362])"
   ]
  },
  {
   "cell_type": "code",
   "execution_count": 84,
   "id": "805e5dc9",
   "metadata": {},
   "outputs": [
    {
     "data": {
      "text/plain": [
       "array([[ 1.,  0.,  0., 14.],\n",
       "       [ 0.,  1.,  0.,  0.],\n",
       "       [ 0.,  0.,  1.,  6.],\n",
       "       [ 0.,  0.,  0.,  1.]])"
      ]
     },
     "execution_count": 84,
     "metadata": {},
     "output_type": "execute_result"
    }
   ],
   "source": [
    "mr.FKinSpace(M, Slist, [math.radians(0),math.radians(0),math.radians(0)])"
   ]
  },
  {
   "cell_type": "code",
   "execution_count": 7,
   "id": "9f2c6097",
   "metadata": {},
   "outputs": [
    {
     "data": {
      "text/plain": [
       "array([1.57079633, 1.57079633, 0.        ])"
      ]
     },
     "execution_count": 7,
     "metadata": {},
     "output_type": "execute_result"
    }
   ],
   "source": [
    "np.deg2rad([90, 90, 0]) "
   ]
  },
  {
   "cell_type": "code",
   "execution_count": 85,
   "id": "6ed30173",
   "metadata": {},
   "outputs": [
    {
     "data": {
      "text/plain": [
       "array([ 3.16612989e-10, -9.87840136e-02,  1.99992970e+01])"
      ]
     },
     "execution_count": 85,
     "metadata": {},
     "output_type": "execute_result"
    }
   ],
   "source": [
    "\n",
    "mr.FKinSpace(M, Slist, [1.57079633, 1.5849691 , 0.01423307])[0:3,3]"
   ]
  },
  {
   "cell_type": "code",
   "execution_count": 86,
   "id": "30250288",
   "metadata": {},
   "outputs": [
    {
     "data": {
      "text/plain": [
       "array([ 7. , -0.2, 13. ])"
      ]
     },
     "execution_count": 86,
     "metadata": {},
     "output_type": "execute_result"
    }
   ],
   "source": [
    "T[0:3,3]"
   ]
  },
  {
   "cell_type": "code",
   "execution_count": 87,
   "id": "a0f2e2bd",
   "metadata": {},
   "outputs": [
    {
     "data": {
      "text/plain": [
       "(1.5707963267948966, 1.6231562043547265)"
      ]
     },
     "execution_count": 87,
     "metadata": {},
     "output_type": "execute_result"
    }
   ],
   "source": [
    "math.radians(90), math.radians(93)"
   ]
  },
  {
   "cell_type": "code",
   "execution_count": 107,
   "id": "163cc388",
   "metadata": {},
   "outputs": [
    {
     "data": {
      "text/plain": [
       "array([[ 1. ,  0. ,  0. , 14. ],\n",
       "       [ 0. ,  1. ,  0. , -0.2],\n",
       "       [ 0. ,  0. ,  1. ,  6. ],\n",
       "       [ 0. ,  0. ,  0. ,  1. ]])"
      ]
     },
     "execution_count": 107,
     "metadata": {},
     "output_type": "execute_result"
    }
   ],
   "source": [
    "T = np.array([[ 1,  0,  0, 14],\n",
    "       [ 0,  1,  0,  0],\n",
    "       [ 0,  0,  1,  6],\n",
    "       [ 0,  0,  0,  1]], dtype=float)\n",
    "\n",
    "direction_map = {\n",
    "            0: np.array([+1, 0, 0]),\n",
    "            1: np.array([0, +1, 0]),\n",
    "            2: np.array([0, 0, +1]),\n",
    "            3: np.array([-1, 0, 0]),\n",
    "            4: np.array([0, -1, 0]),\n",
    "            5: np.array([0, 0, -1]),\n",
    "            6: np.array([0, 0, 0])\n",
    "        }\n",
    "\n",
    "\n",
    "T[0:3 , 3] += direction_map[4] * 0.2\n",
    "\n",
    "# direction_map = {\n",
    "#             0: np.array([+1, 0, 0]),\n",
    "#             1: np.array([0, +1, 0]),\n",
    "#             2: np.array([0, 0, +1]),\n",
    "#             3: np.array([-1, 0, 0]),\n",
    "#             4: np.array([0, -1, 0]),\n",
    "#             5: np.array([0, 0, -1]),\n",
    "#             6: np.array([0, 0, 0])\n",
    "#         }\n",
    "\n",
    "\n",
    "T"
   ]
  },
  {
   "cell_type": "code",
   "execution_count": 108,
   "id": "970f57a3",
   "metadata": {},
   "outputs": [
    {
     "data": {
      "text/plain": [
       "array([[ 1,  0,  0, 14],\n",
       "       [ 0,  1,  0,  0],\n",
       "       [ 0,  0,  1,  6],\n",
       "       [ 0,  0,  0,  1]])"
      ]
     },
     "execution_count": 108,
     "metadata": {},
     "output_type": "execute_result"
    }
   ],
   "source": [
    "M"
   ]
  },
  {
   "cell_type": "code",
   "execution_count": 109,
   "id": "637ac962",
   "metadata": {},
   "outputs": [
    {
     "data": {
      "text/plain": [
       "(array([0., 0., 0.]), False)"
      ]
     },
     "execution_count": 109,
     "metadata": {},
     "output_type": "execute_result"
    }
   ],
   "source": [
    "thetas, success = mr.IKinSpace(Slist, M, T, [math.radians(0),math.radians(0),math.radians(0)], eomg = 1e9, ev= 1e-1)\n",
    "thetas, success"
   ]
  },
  {
   "cell_type": "code",
   "execution_count": null,
   "id": "0c92c201",
   "metadata": {},
   "outputs": [],
   "source": [
    "mr.FKinSpace(M, Slist, [1.6231562, 1.6231562 ,1.6231562])"
   ]
  },
  {
   "cell_type": "code",
   "execution_count": null,
   "id": "4742cd16",
   "metadata": {},
   "outputs": [
    {
     "data": {
      "image/png": "[encoded data removed]",
      "text/plain": [
       "<Figure size 640x480 with 1 Axes>"
      ]
     },
     "metadata": {},
     "output_type": "display_data"
    }
   ],
   "source": [
    "import modern_robotics as mr\n",
    "import numpy as np\n",
    "import matplotlib.pyplot as plt\n",
    "\n",
    "# Robot parameters\n",
    "L1 = 1.0\n",
    "L2 = 1.0\n",
    "\n",
    "S1 = [0, 0, 1, 0, 0, 0]\n",
    "S2 = [0, 0, 1, 0, -L1, 0]\n",
    "S = np.array([S1, S2]).T\n",
    "\n",
    "M = np.array([\n",
    "    [1, 0, 0, L1 + L2],\n",
    "    [0, 1, 0, 0],\n",
    "    [0, 0, 1, 0],\n",
    "    [0, 0, 0, 1]\n",
    "])\n",
    "\n",
    "# 1. Compute the full workspace\n",
    "theta1_range = np.linspace(0, np.pi, 100)\n",
    "theta2_range = np.linspace(0, np.pi, 100)\n",
    "workspace_points = []\n",
    "\n",
    "for t1 in theta1_range:\n",
    "    for t2 in theta2_range:\n",
    "        theta = [t1, t2]\n",
    "        T = mr.FKinSpace(M, S, theta)\n",
    "        x, y = T[0, 3], T[1, 3]\n",
    "        workspace_points.append((x, y))\n",
    "\n",
    "workspace_points = np.array(workspace_points)\n",
    "workspace_points = np.unique(workspace_points, axis=0)\n",
    "\n",
    "# 2. Pick a point near (0, 0)\n",
    "# Let's try a folded arm config: theta = [np.pi/2, -np.pi/2]\n",
    "theta_current = [np.pi, np.pi/4]\n",
    "T_current = mr.FKinSpace(M, S, theta_current)\n",
    "x0, y0 = T_current[0, 3], T_current[1, 3]\n",
    "\n",
    "# 3. Generate neighbor configurations\n",
    "delta_deg = 5  # ±1 degree\n",
    "neighbor_points = []\n",
    "degrees = []\n",
    "for d1_deg in range(-delta_deg, delta_deg + 1):\n",
    "    for d2_deg in range(-delta_deg, delta_deg + 1):\n",
    "        \n",
    "        if d1_deg == 0 and d2_deg == 0:\n",
    "            continue  # skip center\n",
    "        d1 = np.radians(d1_deg)\n",
    "        d2 = np.radians(d2_deg)\n",
    "        theta_n = [theta_current[0] + d1, theta_current[1] + d2]\n",
    "        degrees.append(theta_n)\n",
    "        T_n = mr.FKinSpace(M, S, theta_n)\n",
    "        x_n, y_n = T_n[0, 3], T_n[1, 3]\n",
    "        neighbor_points.append((x_n, y_n))\n",
    "degrees = np.array(degrees)\n",
    "neighbor_points = np.array(neighbor_points)\n",
    "\n",
    "\n",
    "# 4. Plot everything\n",
    "plt.figure()\n",
    "plt.scatter(x0, y0, c='green', s=50, label=\"Current Pose\")\n",
    "plt.scatter(neighbor_points[:, 0], neighbor_points[:, 1], c='red', s=20, label=\"Neighbors\")\n",
    "plt.title(\"Workspace with Neighbors Around Pose Near (0,0)\")\n",
    "plt.xlabel(\"X\")\n",
    "plt.ylabel(\"Y\")\n",
    "plt.axis(\"equal\")\n",
    "plt.grid(True)\n",
    "plt.legend()\n",
    "plt.show()\n",
    "x_test, y_test = neighbor_points[0]\n",
    "degree = degrees[0]\n",
    "\n",
    "T_desired = np.array([\n",
    "    [1, 0, 0, x_test],\n",
    "    [0, 1, 0, y_test],\n",
    "    [0, 0, 1, 0],\n",
    "    [0, 0, 0, 1]\n",
    "])\n",
    "\n",
    "\n",
    "theta_init = theta_current\n",
    "epsilon = 1e-3\n",
    "max_iter = 100\n",
    "\n",
    "theta_sol, success = mr.IKinSpace(S, M, T_desired, theta_init, epsilon, max_iter)\n",
    "\n",
    "theta_sol , degree\n"
   ]
  },
  {
   "cell_type": "code",
   "execution_count": 29,
   "id": "4332df9d",
   "metadata": {},
   "outputs": [
    {
     "data": {
      "text/plain": [
       "(array([1.2403031, 5.0428822]), array([3.05432619, 0.6981317 ]))"
      ]
     },
     "execution_count": 29,
     "metadata": {},
     "output_type": "execute_result"
    }
   ],
   "source": [
    "x_test, y_test = neighbor_points[0]\n",
    "degree = degrees[0]\n",
    "\n",
    "T_desired = np.array([\n",
    "    [1, 0, 0, x_test],\n",
    "    [0, 1, 0, y_test],\n",
    "    [0, 0, 1, 0],\n",
    "    [0, 0, 0, 1]\n",
    "])\n",
    "\n",
    "\n",
    "theta_init = theta_current\n",
    "epsilon = 1e-3\n",
    "max_iter = 100\n",
    "\n",
    "theta_sol, success = mr.IKinSpace(S, M, T_desired, theta_init, epsilon, max_iter)\n",
    "\n",
    "theta_sol , degree"
   ]
  },
  {
   "cell_type": "code",
   "execution_count": null,
   "id": "c85c3159",
   "metadata": {},
   "outputs": [
    {
     "name": "stdout",
     "output_type": "stream",
     "text": [
      "IK solution (degrees): [175.  40.]\n"
     ]
    }
   ],
   "source": [
    "neighbor_theta_deg = np.array([175 , 40])\n",
    "neighbor_theta_rad = np.radians(neighbor_theta_deg)\n",
    "\n",
    "# Construct T_desired from FK of neighbor_theta\n",
    "T_desired = mr.FKinSpace(M, S, neighbor_theta_rad)\n",
    "\n",
    "# Use neighbor_theta_rad or theta_current as initial guess\n",
    "theta_init = neighbor_theta_rad  # or theta_current\n",
    "\n",
    "theta_sol, success = mr.IKinSpace(S, M, T_desired, theta_init, 1e-3, 100)\n",
    "\n",
    "if success:\n",
    "    print(\"IK solution (degrees):\", np.rad2deg(theta_sol))\n",
    "else:\n",
    "    print(\"IK failed\")\n"
   ]
  },
  {
   "cell_type": "code",
   "execution_count": 19,
   "id": "c89b9729",
   "metadata": {},
   "outputs": [
    {
     "data": {
      "text/plain": [
       "np.float64(0.08726646259971647)"
      ]
     },
     "execution_count": 19,
     "metadata": {},
     "output_type": "execute_result"
    }
   ],
   "source": [
    "np.radians(5)"
   ]
  },
  {
   "cell_type": "code",
   "execution_count": 18,
   "id": "5b8e525e",
   "metadata": {},
   "outputs": [
    {
     "data": {
      "text/plain": [
       "array([180.,  45.])"
      ]
     },
     "execution_count": 18,
     "metadata": {},
     "output_type": "execute_result"
    }
   ],
   "source": [
    "np.rad2deg([np.pi, np.pi/4])"
   ]
  },
  {
   "cell_type": "code",
   "execution_count": 12,
   "id": "fa3808ad",
   "metadata": {},
   "outputs": [
    {
     "data": {
      "text/plain": [
       "(array([ 71.06413315, 288.93586685]), True)"
      ]
     },
     "execution_count": 12,
     "metadata": {},
     "output_type": "execute_result"
    }
   ],
   "source": [
    "np.rad2deg(theta_sol) , success"
   ]
  },
  {
   "cell_type": "code",
   "execution_count": 133,
   "id": "f4e9e7d7",
   "metadata": {},
   "outputs": [
    {
     "data": {
      "text/plain": [
       "(8, 2)"
      ]
     },
     "execution_count": 133,
     "metadata": {},
     "output_type": "execute_result"
    }
   ],
   "source": [
    "neighbor_points.shape"
   ]
  },
  {
   "cell_type": "code",
   "execution_count": 134,
   "id": "093ec275",
   "metadata": {},
   "outputs": [
    {
     "data": {
      "text/plain": [
       "array([[0.7542393 , 1.6940492 ],\n",
       "       [0.73679221, 1.69450607],\n",
       "       [0.7193398 , 1.69465837],\n",
       "       [0.72455919, 1.70695448],\n",
       "       [0.68965437, 1.70695448],\n",
       "       [0.69465837, 1.7193398 ],\n",
       "       [0.67720596, 1.7191875 ],\n",
       "       [0.65975887, 1.71873063]])"
      ]
     },
     "execution_count": 134,
     "metadata": {},
     "output_type": "execute_result"
    }
   ],
   "source": [
    "neighbor_points"
   ]
  },
  {
   "cell_type": "code",
   "execution_count": 117,
   "id": "04cd5138",
   "metadata": {},
   "outputs": [
    {
     "data": {
      "text/plain": [
       "array([-2.99951957e-32,  2.44929360e-16])"
      ]
     },
     "execution_count": 117,
     "metadata": {},
     "output_type": "execute_result"
    }
   ],
   "source": [
    "T = points[0]\n",
    "T"
   ]
  },
  {
   "cell_type": "code",
   "execution_count": 116,
   "id": "0ea8967a",
   "metadata": {},
   "outputs": [],
   "source": [
    "reachable_points = []\n",
    "\n",
    "for t1 in theta1_range:\n",
    "    for t2 in theta2_range:\n",
    "        theta = [t1, t2]\n",
    "        T = mr.FKinSpace(M, S, theta)\n",
    "        pos = T[0:3, 3]\n",
    "        R = np.eye(3)  # arbitrary rotation (e.g., identity)\n",
    "        \n",
    "        # Build target T matrix\n",
    "        T_target = np.eye(4)\n",
    "        T_target[0:3, 0:3] = R\n",
    "        T_target[0:3, 3] = pos\n",
    "\n",
    "        theta_guess = [0, 0]\n",
    "        try:\n",
    "            ik_sol, success = mr.IKinSpace(S, M, T_target, theta_guess, 1e-3, 1e-3)\n",
    "            if success:\n",
    "                reachable_points.append(pos[:2])  # just x and y\n",
    "        except:\n",
    "            continue\n"
   ]
  },
  {
   "cell_type": "code",
   "execution_count": 1,
   "id": "642bbd20",
   "metadata": {},
   "outputs": [
    {
     "name": "stdout",
     "output_type": "stream",
     "text": [
      "End-effector configuration:\n",
      " [[ 0.         -1.          0.          0.70710678]\n",
      " [ 1.          0.          0.          1.70710678]\n",
      " [ 0.          0.          1.          0.        ]\n",
      " [ 0.          0.          0.          1.        ]]\n",
      "IK Solution: [0.70945337 0.86134295]\n",
      "Success: False\n"
     ]
    }
   ],
   "source": [
    "import modern_robotics as mr\n",
    "import numpy as np\n",
    "L1 = 1.0  # length of link 1\n",
    "L2 = 1.0  # length of link 2\n",
    "\n",
    "# Screw axes in space frame (for 2 revolute joints about z-axis)\n",
    "S1 = [0, 0, 1, 0, 0, 0]         # Joint 1 at origin\n",
    "S2 = [0, 0, 1, 0, -L1, 0]       # Joint 2 at (L1, 0, 0)\n",
    "\n",
    "S = np.array([S1, S2]).T  # 6x2 matrix\n",
    "\n",
    "# Home configuration of the end-effector (when both joints are at 0)\n",
    "M = np.array([\n",
    "    [1, 0, 0, L1 + L2],\n",
    "    [0, 1, 0, 0],\n",
    "    [0, 0, 1, 0],\n",
    "    [0, 0, 0, 1]\n",
    "])\n",
    "theta = [np.pi/4, np.pi/4]  # joint angles\n",
    "\n",
    "T = mr.FKinSpace(M, S, theta)\n",
    "print(\"End-effector configuration:\\n\", T)# Desired end-effector transformation\n",
    "# Modify the position (not the full SE(3) matrix yet!)\n",
    "p = T[0:3, 3] + np.array([0, -0.1, -0.1])  # new desired position\n",
    "R = T[0:3, 0:3]  # keep the same orientation\n",
    "\n",
    "# Build the desired SE(3) matrix\n",
    "T_desired = np.eye(4)\n",
    "T_desired[0:3, 0:3] = R\n",
    "T_desired[0:3, 3] = p\n",
    "\n",
    "theta_guess = [0, 0]\n",
    "thetalist_sol, success = mr.IKinSpace(S, M, T_desired, theta_guess, 1e-3, 1e-3)\n",
    "print(\"IK Solution:\", thetalist_sol)\n",
    "print(\"Success:\", success)\n",
    "\n"
   ]
  },
  {
   "cell_type": "code",
   "execution_count": null,
   "id": "6df697db",
   "metadata": {},
   "outputs": [
    {
     "data": {
      "text/plain": [
       "np.int64(180)"
      ]
     },
     "execution_count": 122,
     "metadata": {},
     "output_type": "execute_result"
    }
   ],
   "source": []
  },
  {
   "cell_type": "code",
   "execution_count": 30,
   "id": "5582ab23",
   "metadata": {},
   "outputs": [
    {
     "name": "stdout",
     "output_type": "stream",
     "text": [
      "Target joint angles (degrees): [175.  40.]\n",
      "IK solution (degrees): [175.  40.]\n",
      "Success: True\n"
     ]
    }
   ],
   "source": [
    "# Instead of fixed identity rotation, get full pose from FK:\n",
    "T_desired = mr.FKinSpace(M, S, degree)\n",
    "\n",
    "theta_init = theta_current  # or degree for better guess\n",
    "epsilon = 1e-3\n",
    "max_iter = 100\n",
    "\n",
    "theta_sol, success = mr.IKinSpace(S, M, T_desired, theta_init, epsilon, max_iter)\n",
    "\n",
    "print(\"Target joint angles (degrees):\", np.rad2deg(degree))\n",
    "print(\"IK solution (degrees):\", np.rad2deg(theta_sol))\n",
    "print(\"Success:\", success)\n"
   ]
  },
  {
   "cell_type": "code",
   "execution_count": 32,
   "id": "fa852a7c",
   "metadata": {},
   "outputs": [],
   "source": [
    "T_desired[0,3] += 0.1"
   ]
  },
  {
   "cell_type": "code",
   "execution_count": 40,
   "id": "16883dee",
   "metadata": {},
   "outputs": [
    {
     "name": "stdout",
     "output_type": "stream",
     "text": [
      "Target joint angles (degrees): [175.  40.]\n",
      "IK solution (degrees): [174.5  40.5]\n",
      "Success: True\n"
     ]
    }
   ],
   "source": [
    "\n",
    "theta_init = theta_current  # or degree for better guess\n",
    "eomg = 10000\n",
    "ev = 0.1\n",
    "\n",
    "theta_sol, success = mr.IKinSpace(S, M, T_desired, theta_init, eomg, ev)\n",
    "\n",
    "print(\"Target joint angles (degrees):\", np.rad2deg(degree))\n",
    "print(\"IK solution (degrees):\", np.rad2deg(theta_sol))\n",
    "print(\"Success:\", success)\n"
   ]
  },
  {
   "cell_type": "code",
   "execution_count": 1,
   "id": "e2781a14",
   "metadata": {},
   "outputs": [
    {
     "data": {
      "image/png": "[encoded data removed]",
      "text/plain": [
       "<Figure size 640x480 with 1 Axes>"
      ]
     },
     "metadata": {},
     "output_type": "display_data"
    }
   ],
   "source": [
    "import numpy as np\n",
    "import matplotlib.pyplot as plt\n",
    "from modern_robotics import FKinSpace, MatrixExp6, VecTose3\n",
    "\n",
    "def get_joint_positions(Slist, M, thetas):\n",
    "    \"\"\"\n",
    "    Computes joint positions (x, y, z) along the chain.\n",
    "    Returns: list of positions (each a 3D point)\n",
    "    \"\"\"\n",
    "    T = np.eye(4)\n",
    "    positions = [T[:3, 3]]  # start at origin\n",
    "    for i in range(len(thetas)):\n",
    "        exp = MatrixExp6(VecTose3(Slist[:, i] * thetas[i]))\n",
    "        T = T @ exp\n",
    "        positions.append((T @ np.eye(4))[:3, 3])\n",
    "    T_end = T @ M\n",
    "    positions.append(T_end[:3, 3])\n",
    "    return np.array(positions)\n",
    "\n",
    "def plot_robot(ax, joint_positions, color, label):\n",
    "    xs, ys, zs = joint_positions[:, 0], joint_positions[:, 1], joint_positions[:, 2]\n",
    "    ax.plot(xs, ys, zs, marker='o', color=color, label=label)\n",
    "\n",
    "def visualize_all_configs(Slist, M, configs_deg):\n",
    "    fig = plt.figure()\n",
    "    ax = fig.add_subplot(111, projection='3d')\n",
    "    \n",
    "    for label, angles_deg, color in configs_deg:\n",
    "        angles_rad = np.radians(angles_deg)\n",
    "        joint_positions = get_joint_positions(Slist, M, angles_rad)\n",
    "        plot_robot(ax, joint_positions, color=color, label=label)\n",
    "    \n",
    "    ax.set_xlabel(\"X\")\n",
    "    ax.set_ylabel(\"Y\")\n",
    "    ax.set_zlabel(\"Z\")\n",
    "    ax.set_title(\"IK Configurations Comparison\")\n",
    "    ax.legend()\n",
    "    ax.grid(True)\n",
    "    ax.set_box_aspect([1, 1, 1])  # Equal aspect\n",
    "    plt.show()\n",
    "\n",
    "# --- Example usage:\n",
    "actual_theta = [90, 78, 96]\n",
    "ik1 = [90, -18, 96]\n",
    "ik2 = [90, 78, -96]\n",
    "\n",
    "# Add labels and colors\n",
    "configs = [\n",
    "    (\"Actual Theta\", actual_theta, 'green'),\n",
    "    (\"IK Weird Solution\", ik1, 'red'),\n",
    "    (\"IK Valid Alt\", ik2, 'blue')\n",
    "]\n",
    "\n",
    "# Your robot's screw axes and M matrix\n",
    "# Example (replace with your actual values):\n",
    "# S1: rotation about Z at origin\n",
    "# S2, S3: rotation about Y with proper link offsets\n",
    "L1, L2, L3 = 1, 1, 1\n",
    "Slist = np.array([\n",
    "    [0, 0, 0],  # wx\n",
    "    [0, 1, 1],  # wy\n",
    "    [1, 0, 0],  # wz\n",
    "    [0, 0, 0],  # vx\n",
    "    [0, -L1, -L1 - L2],  # vy\n",
    "    [0, 0, 0]   # vz\n",
    "]).astype(float)\n",
    "\n",
    "M = np.array([\n",
    "    [1, 0, 0, 0],\n",
    "    [0, 1, 0, L1 + L2 + L3],\n",
    "    [0, 0, 1, 0],\n",
    "    [0, 0, 0, 1]\n",
    "])\n",
    "\n",
    "# Plot all configs\n",
    "visualize_all_configs(Slist, M, configs)\n"
   ]
  },
  {
   "cell_type": "code",
   "execution_count": 11,
   "id": "ab3bd931",
   "metadata": {},
   "outputs": [],
   "source": [
    "def inverse_kinematics_3d( x, y, z, L1,L2, L3, x_offset= 0 , y_offset = 0  , z_offset = 0 ,  previous_thetas=None):\n",
    "    \"\"\"\n",
    "    Calculates inverse kinematics for a 3DOF arm:\n",
    "    - Joint 1 rotates around Z-axis\n",
    "    - Joints 2 & 3 act in YZ plane\n",
    "    Returns the solution closest to previous_thetas if provided.\n",
    "    \"\"\"\n",
    "    # 1. θ1 = base rotation to reach (x, y)\n",
    "    theta1 = np.arctan2(y, x)  # rotation around Z to reach y-axis\n",
    "\n",
    "    # 2. Project the target onto the YZ plane by rotating into frame\n",
    "    y_proj = np.sqrt(x**2 + y**2)- x_offset\n",
    "    z_eff = z - L1  # offset for base height\n",
    "    \n",
    "    # 3. Compute r for planar arm (in YZ)\n",
    "\n",
    "    r = np.sqrt(y_proj**2 + z_eff**2)\n",
    "\n",
    "    # Check reachability\n",
    "    if r > (L2 + L3) or r < abs(L2 - L3):\n",
    "        raise ValueError(\"Target is out of reach\")\n",
    "\n",
    "    # 4. Two possible θ3 (elbow angle)\n",
    "    cos_theta3 = (r**2 - L2**2 - L3**2) / (2 * L2 * L3)\n",
    "    cos_theta3 = np.clip(cos_theta3, -1.0, 1.0)\n",
    "    theta3_up =  np.arccos(cos_theta3)\n",
    "    theta3_down = -theta3_up\n",
    "\n",
    "    # 5. Corresponding θ2 (shoulder angle)\n",
    "    k1_up = L2 + L3 * np.cos(theta3_up)\n",
    "    k2_up = L3 * np.sin(theta3_up)\n",
    "    theta2_up = np.arctan2(z_eff, y_proj) - np.arctan2(k2_up, k1_up)\n",
    "\n",
    "    k1_down = L2 + L3 * np.cos(theta3_down)\n",
    "    k2_down = L3 * np.sin(theta3_down)\n",
    "    theta2_down = np.arctan2(z_eff, y_proj) - np.arctan2(k2_down, k1_down)\n",
    "\n",
    "    # Pack solutions\n",
    "    sol_up = np.array([theta1, theta2_up, theta3_up])\n",
    "    sol_down = np.array([theta1, theta2_down, theta3_down])\n",
    "\n",
    "    sol_up_deg = np.rad2deg(sol_up)\n",
    "    sol_down_deg = np.rad2deg(sol_down)\n",
    "\n",
    "\n",
    "    return sol_up_deg, sol_down_deg\n",
    "\n"
   ]
  },
  {
   "cell_type": "code",
   "execution_count": 12,
   "id": "787ec700",
   "metadata": {},
   "outputs": [
    {
     "name": "stdout",
     "output_type": "stream",
     "text": [
      "theta degree=  [100, 40, 0]\n",
      "[-2.021553   11.4647968   5.25070261]\n",
      "result from inverse kinematics: [100.         -59.98460893  90.        ] [100.  40. -90.]\n",
      "singal for servo: [ 100  -60 -180] [100  40   0]\n"
     ]
    }
   ],
   "source": [
    "import numpy as np\n",
    "import modern_robotics as mr\n",
    "def transform_to_signal(thetas):\n",
    "    thetas_rounded = np.round(thetas).astype(int)\n",
    "    thetas_rounded[2] += 90\n",
    "    thetas_rounded[2] *= -1\n",
    "    return thetas_rounded\n",
    "\n",
    "L1=7.14\n",
    "L2=7 \n",
    "L3=8.34  \n",
    "x_offset=0.9185 \n",
    "\n",
    "w1 = np.array([0, 0, 1])\n",
    "q1 = np.array([0, 0, 0])\n",
    "v1 = -np.cross(w1, q1)\n",
    "\n",
    "w2 = np.array([0, -1, 0])\n",
    "q2 = np.array([x_offset, 0, L1])\n",
    "v2 = -np.cross(w2, q2)\n",
    "\n",
    "w3 = np.array([0, 1, 0])\n",
    "q3 = np.array([L2+x_offset, 0, L1])\n",
    "v3 = -np.cross(w3, q3)\n",
    "\n",
    "# Screw axes (6x3 matrix)\n",
    "S1 = np.hstack((w1, v1))  # shape (6,)\n",
    "S2 = np.hstack((w2, v2))\n",
    "S3 = np.hstack((w3, v3))\n",
    "Slist = np.column_stack((S1, S2, S3))  # shape (6,3)\n",
    "\n",
    "# Store home configuration\n",
    "M = np.array([\n",
    "    [1, 0, 0, L2+x_offset],\n",
    "    [0, 1, 0, 0],\n",
    "    [0, 0, 1, L1-L3],\n",
    "    [0, 0, 0, 1]\n",
    "])\n",
    "\n",
    "\n",
    "def forward_kinematics( M , Slist ,thetas):\n",
    "    return mr.FKinSpace(M, Slist, thetas)    \n",
    "    \n",
    "\n",
    "theta =[100 , 40,   0]\n",
    "\n",
    "state = forward_kinematics(M, Slist , thetas= np.deg2rad(theta))\n",
    "\n",
    "\n",
    "\n",
    "print(\"theta degree= \" ,theta)\n",
    "print(state[0:3,3])\n",
    "# L1 = L2 = L3 = 1\n",
    "# x_offset = 0.9185\n",
    "# x = x_offset\n",
    "# y = 0 \n",
    "# z = 3\n",
    "import numpy as np\n",
    "\n",
    "thetas_up , theta_down = inverse_kinematics_3d(state[0,3],state[1,3],state[2,3],L1, L2 ,L3 , x_offset=x_offset)\n",
    "\n",
    "print(\"result from inverse kinematics:\" ,thetas_up, theta_down)\n",
    "\n",
    "theta_up_signal = transform_to_signal(thetas_up)\n",
    "theta_down_signal = transform_to_signal(theta_down)\n",
    "\n",
    "\n",
    "print(\"singal for servo:\" ,theta_up_signal , theta_down_signal)"
   ]
  },
  {
   "cell_type": "code",
   "execution_count": 13,
   "id": "d8274ef5",
   "metadata": {},
   "outputs": [
    {
     "data": {
      "text/plain": [
       "array([[ 0.    ,  0.    ,  0.    ],\n",
       "       [ 0.    , -1.    ,  1.    ],\n",
       "       [ 1.    ,  0.    ,  0.    ],\n",
       "       [ 0.    ,  7.14  , -7.14  ],\n",
       "       [ 0.    , -0.    , -0.    ],\n",
       "       [ 0.    , -0.9185,  7.9185]])"
      ]
     },
     "execution_count": 13,
     "metadata": {},
     "output_type": "execute_result"
    }
   ],
   "source": [
    "Slist"
   ]
  },
  {
   "cell_type": "code",
   "execution_count": 14,
   "id": "ac1a89ae",
   "metadata": {},
   "outputs": [
    {
     "data": {
      "text/plain": [
       "array([[  0.        ,   0.98480775,  -0.98480775],\n",
       "       [  0.        ,   0.17364818,  -0.17364818],\n",
       "       [  1.        ,   0.        ,   0.        ],\n",
       "       [  0.        ,  -1.23984799,   2.02118027],\n",
       "       [  0.        ,   7.03152736, -11.46268291],\n",
       "       [  0.        ,  -0.9185    ,   6.2808111 ]])"
      ]
     },
     "execution_count": 14,
     "metadata": {},
     "output_type": "execute_result"
    }
   ],
   "source": [
    "J = mr.JacobianSpace(Slist, np.deg2rad(theta))\n",
    "J"
   ]
  },
  {
   "cell_type": "code",
   "execution_count": 44,
   "id": "f57039ad",
   "metadata": {},
   "outputs": [],
   "source": [
    "dtheta = np.array([0.01745, 0.01745, 0.01745])  # rad/s\n",
    "\n",
    "V = J @ dtheta\n",
    "omega = V[0:3]  # angular velocity of end-effector (rad/s)\n",
    "v = np.abs(V[3:6])      # linear velocity of end-effector (units/sec)\n"
   ]
  },
  {
   "cell_type": "code",
   "execution_count": 45,
   "id": "0ba449f9",
   "metadata": {},
   "outputs": [
    {
     "data": {
      "text/plain": [
       "array([ 0.        ,  0.        ,  0.01745   ,  0.01363425, -0.07732366,\n",
       "        0.09357233])"
      ]
     },
     "execution_count": 45,
     "metadata": {},
     "output_type": "execute_result"
    }
   ],
   "source": [
    "V"
   ]
  },
  {
   "cell_type": "code",
   "execution_count": 46,
   "id": "73f78332",
   "metadata": {},
   "outputs": [
    {
     "data": {
      "text/plain": [
       "(array([0.01363425, 0.07732366, 0.09357233]),\n",
       " array([0.     , 0.     , 0.01745]))"
      ]
     },
     "execution_count": 46,
     "metadata": {},
     "output_type": "execute_result"
    }
   ],
   "source": [
    "v, omega"
   ]
  },
  {
   "cell_type": "code",
   "execution_count": 74,
   "id": "7b767e1c",
   "metadata": {},
   "outputs": [
    {
     "name": "stdout",
     "output_type": "stream",
     "text": [
      "[-2.2213334  11.42776969  5.25070261]\n",
      "[0.01498166 0.07707394 0.09357233]\n",
      "[-2.021553   11.4647968   5.25070261]\n",
      "[[  0.           0.98480775  -0.98480775]\n",
      " [  0.           0.17364818  -0.17364818]\n",
      " [  1.           0.           0.        ]\n",
      " [  0.          -1.23984799   2.02118027]\n",
      " [  0.           7.03152736 -11.46268291]\n",
      " [  0.          -0.9185       6.2808111 ]]\n",
      "[0.01363425 0.07732366 0.09357233]\n"
     ]
    }
   ],
   "source": [
    "theta =[101 , 40,   0]\n",
    "state = forward_kinematics(M, Slist , thetas= np.deg2rad(theta))\n",
    "print(state[0:3,3])\n",
    "J = mr.JacobianSpace(Slist, np.deg2rad(theta))\n",
    "V = J @ dtheta\n",
    "omega = V[0:3]  # angular velocity of end-effector (rad/s)\n",
    "v = np.abs(V[3:6])      # linear velocity of end-effector (units/sec)\n",
    "print(v)\n",
    "\n",
    "\n",
    "theta =[100 , 40,   0]\n",
    "state = forward_kinematics(M, Slist , thetas= np.deg2rad(theta))\n",
    "print(state[0:3,3])\n",
    "J = mr.JacobianSpace(Slist, np.deg2rad(theta))\n",
    "print(J)\n",
    "V = J @ dtheta\n",
    "omega = V[0:3]  # angular velocity of end-effector (rad/s)\n",
    "v = np.abs(V[3:6])      # linear velocity of end-effector (units/sec)\n",
    "print(v)"
   ]
  },
  {
   "cell_type": "code",
   "execution_count": 67,
   "id": "1ae179dc",
   "metadata": {},
   "outputs": [
    {
     "name": "stdout",
     "output_type": "stream",
     "text": [
      "[-2.2213334  11.42776969  5.25070261]\n",
      "[[  0.           0.98162718  -0.98162718]\n",
      " [  0.           0.190809    -0.190809  ]\n",
      " [  1.           0.           0.        ]\n",
      " [  0.          -1.36237623   2.22092383]\n",
      " [  0.           7.00881809 -11.42566263]\n",
      " [  0.          -0.9185       6.2808111 ]]\n",
      "[0.01498166 0.07707394 0.09357233]\n",
      "[-2.2213334  11.42776969  5.25070261]\n",
      "[-2.20635175 11.42776969  5.25070261]\n",
      "result from inverse kinematics: [100.927603   -60.00480241  90.02998254] [100.927603    40.01498888 -90.02998254]\n",
      "singal for servo: [ 101  -60 -180] [101  40   0]\n"
     ]
    }
   ],
   "source": [
    "\n",
    "theta =[101 , 40,   0]\n",
    "state = forward_kinematics(M, Slist , thetas= np.deg2rad(theta))\n",
    "print(state[0:3,3])\n",
    "\n",
    "J = mr.JacobianSpace(Slist, np.deg2rad(theta))\n",
    "\n",
    "print(J)\n",
    "V = J @ dtheta\n",
    "omega = V[0:3]  # angular velocity of end-effector (rad/s)\n",
    "v = np.abs(V[3:6])      # linear velocity of end-effector (units/sec)\n",
    "print(v)\n",
    "\n",
    "position = state[0:3,3]\n",
    "print(position)\n",
    "fut_position = position +  np.multiply(v , np.array([1, 0, 0]))\n",
    "\n",
    "import numpy as np\n",
    "print(fut_position)\n",
    "thetas_up , theta_down = inverse_kinematics_3d(fut_position[0],fut_position[1],fut_position[2],L1, L2 ,L3 , x_offset=x_offset)\n",
    "\n",
    "print(\"result from inverse kinematics:\" ,thetas_up, theta_down)\n",
    "\n",
    "theta_up_signal = transform_to_signal(thetas_up)\n",
    "theta_down_signal = transform_to_signal(theta_down)\n",
    "\n",
    "\n",
    "print(\"singal for servo:\" ,theta_up_signal , theta_down_signal)"
   ]
  },
  {
   "cell_type": "code",
   "execution_count": 49,
   "id": "4c61330a",
   "metadata": {},
   "outputs": [
    {
     "name": "stdout",
     "output_type": "stream",
     "text": [
      "Difference in degrees: [0 1 0]\n"
     ]
    }
   ],
   "source": [
    "diff = theta - theta_down_signal\n",
    "print(\"Difference in degrees:\", diff)"
   ]
  },
  {
   "cell_type": "code",
   "execution_count": 92,
   "id": "d5589f1c",
   "metadata": {},
   "outputs": [
    {
     "data": {
      "text/plain": [
       "array([ 0.        , -0.00319333, -0.00046699])"
      ]
     },
     "execution_count": 92,
     "metadata": {},
     "output_type": "execute_result"
    }
   ],
   "source": [
    "delta_x = np.array([0.1, 0, 0])  # e.g., move 1cm in x\n",
    "delta_theta = np.linalg.pinv(J[3:6]) @ delta_x  # only linear part\n",
    "\n",
    "# Limit joint step size\n",
    "max_joint_step = np.deg2rad(1.0)  # limit to 1 degree max\n",
    "norm_dtheta = np.linalg.norm(delta_theta)\n",
    "\n",
    "if norm_dtheta > max_joint_step:\n",
    "    delta_theta = delta_theta / norm_dtheta * max_joint_step\n",
    "delta_theta\n"
   ]
  },
  {
   "cell_type": "code",
   "execution_count": 85,
   "id": "ab6d2a82",
   "metadata": {},
   "outputs": [],
   "source": [
    "theta = [100 , 40, 0]"
   ]
  },
  {
   "cell_type": "code",
   "execution_count": 86,
   "id": "3be76c6a",
   "metadata": {},
   "outputs": [],
   "source": [
    "state = forward_kinematics(M, Slist , theta)"
   ]
  },
  {
   "cell_type": "code",
   "execution_count": 87,
   "id": "9e7cb5c1",
   "metadata": {},
   "outputs": [
    {
     "data": {
      "text/plain": [
       "array([[-0.57511328,  0.50636564, -0.64252514,  2.12490661],\n",
       "       [ 0.33771452,  0.86231887,  0.3772997 , -1.24777473],\n",
       "       [ 0.74511316,  0.        , -0.66693806, 17.91805556],\n",
       "       [ 0.        ,  0.        ,  0.        ,  1.        ]])"
      ]
     },
     "execution_count": 87,
     "metadata": {},
     "output_type": "execute_result"
    }
   ],
   "source": [
    "state"
   ]
  },
  {
   "cell_type": "code",
   "execution_count": 88,
   "id": "7a9d71dc",
   "metadata": {},
   "outputs": [
    {
     "name": "stdout",
     "output_type": "stream",
     "text": [
      "x-direction contribution per joint:\n",
      "Joint 1: 0.000000\n",
      "Joint 2: -1.239848\n",
      "Joint 3: 2.021180\n"
     ]
    }
   ],
   "source": [
    "J = mr.JacobianSpace(Slist, np.deg2rad(theta))\n",
    "J_linear = J[3:6, :]       # Linear part of Jacobian\n",
    "J_x = J_linear[0, :]       # x-direction motion contribution\n",
    "\n",
    "print(\"x-direction contribution per joint:\")\n",
    "for i in range(J_x.shape[0]):\n",
    "    print(f\"Joint {i+1}: {J_x[i]:.6f}\")\n",
    "\n",
    "theta += J_x\n",
    "\n",
    "\n",
    "state = forward_kinematics(M, Slist , theta)\n"
   ]
  },
  {
   "cell_type": "code",
   "execution_count": 89,
   "id": "c05adb8e",
   "metadata": {},
   "outputs": [
    {
     "name": "stdout",
     "output_type": "stream",
     "text": [
      "[[ 0.49445814  0.50636564  0.70647363 -2.15448368]\n",
      " [-0.2903527   0.86231887 -0.41485115  1.2651428 ]\n",
      " [-0.81927191  0.          0.57340521  8.46784517]\n",
      " [ 0.          0.          0.          1.        ]]\n"
     ]
    }
   ],
   "source": [
    "print(state)"
   ]
  },
  {
   "cell_type": "code",
   "execution_count": 98,
   "id": "231ebf13",
   "metadata": {},
   "outputs": [
    {
     "name": "stdout",
     "output_type": "stream",
     "text": [
      "[100.          38.72821876   2.01651038]\n",
      "[ 0.00000000e+00 -3.19332512e-04 -4.66988909e-05]\n",
      "[-2.09741682  1.23163234  8.5444549 ]\n",
      "[-2.09684508  1.23129661  8.54519968]\n",
      "Actual Cartesian motion after delta_theta: [ 0.00057173 -0.00033573  0.00074478]\n"
     ]
    }
   ],
   "source": [
    "print(theta)\n",
    "\n",
    "\n",
    "delta_x = np.array([0.01, 0, 0])\n",
    "delta_theta = np.linalg.pinv(J[3:6]) @ delta_x\n",
    "print(delta_theta)\n",
    "\n",
    "\n",
    "theta += delta_theta\n",
    "T_before = forward_kinematics(M, Slist, theta)\n",
    "position_before = T_before[0:3, 3]\n",
    "print(position_before)\n",
    "theta += delta_theta\n",
    "\n",
    "T_after = forward_kinematics(M, Slist, theta)\n",
    "position_after = T_after[0:3, 3]\n",
    "print(position_after)\n",
    "delta_pos = position_after - position_before\n",
    "print(\"Actual Cartesian motion after delta_theta:\", delta_pos)\n",
    "\n",
    "\n"
   ]
  },
  {
   "cell_type": "code",
   "execution_count": null,
   "id": "39361d06",
   "metadata": {},
   "outputs": [],
   "source": []
  }
 ],
 "metadata": {
  "kernelspec": {
   "display_name": "diamond",
   "language": "python",
   "name": "python3"
  },
  "language_info": {
   "codemirror_mode": {
    "name": "ipython",
    "version": 3
   },
   "file_extension": ".py",
   "mimetype": "text/x-python",
   "name": "python",
   "nbconvert_exporter": "python",
   "pygments_lexer": "ipython3",
   "version": "3.10.16"
  }
 },
 "nbformat": 4,
 "nbformat_minor": 5
}
